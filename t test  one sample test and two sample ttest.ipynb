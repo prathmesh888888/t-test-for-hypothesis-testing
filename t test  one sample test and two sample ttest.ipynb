{
 "cells": [
  {
   "cell_type": "code",
   "execution_count": 1,
   "metadata": {},
   "outputs": [],
   "source": [
    "import numpy as np\n",
    "from scipy.stats import ttest_1samp\n"
   ]
  },
  {
   "cell_type": "code",
   "execution_count": 2,
   "metadata": {},
   "outputs": [],
   "source": [
    "##creating the population randomly\n",
    "population=np.random.randint(low = 15,high=75,size=100)\n"
   ]
  },
  {
   "cell_type": "code",
   "execution_count": 3,
   "metadata": {},
   "outputs": [],
   "source": [
    "##taking sample from population\n",
    "sample=np.random.choice(population,15)\n"
   ]
  },
  {
   "cell_type": "code",
   "execution_count": 4,
   "metadata": {},
   "outputs": [],
   "source": [
    "##creating ttest ad p_value var\n",
    "\n",
    "ttest_1samp,p_val=ttest_1samp(sample,population.mean())"
   ]
  },
  {
   "cell_type": "code",
   "execution_count": 5,
   "metadata": {},
   "outputs": [
    {
     "name": "stdout",
     "output_type": "stream",
     "text": [
      "0.7888500399050229\n",
      "0.27298525347828073\n"
     ]
    }
   ],
   "source": [
    "print(p_val)\n",
    "print(ttest_1samp)"
   ]
  },
  {
   "cell_type": "code",
   "execution_count": 6,
   "metadata": {},
   "outputs": [
    {
     "name": "stdout",
     "output_type": "stream",
     "text": [
      "we accpt null hypothesis\n"
     ]
    }
   ],
   "source": [
    "if p_val<0.05:\n",
    "    print(\"we reject null hypothesis\")\n",
    "else :\n",
    "    print(\"we accpt null hypothesis\")"
   ]
  },
  {
   "cell_type": "markdown",
   "metadata": {},
   "source": [
    "here rejecting null hypothesisi means the mean of sample is difference from mean of population"
   ]
  },
  {
   "cell_type": "markdown",
   "metadata": {},
   "source": [
    "\n",
    "\n",
    "\n",
    "\n",
    "\n",
    "# #another example\n"
   ]
  },
  {
   "cell_type": "code",
   "execution_count": 7,
   "metadata": {},
   "outputs": [],
   "source": [
    "import numpy as np\n",
    "from scipy.stats import ttest_1samp\n",
    "import scipy.stats as stats\n",
    "import math"
   ]
  },
  {
   "cell_type": "code",
   "execution_count": 8,
   "metadata": {},
   "outputs": [],
   "source": [
    "##used to get same random sample everytime we use seed(5)\n",
    "np.random.seed(5)\n",
    "school_ages=stats.poisson.rvs(loc=18,mu=15,size=1500)         ##stats.poisson.rvs creats a random int poison distributioin population\n",
    "class_ages=stats.poisson.rvs(loc=18,mu=30,size=60)            ##here loc=left most value \n",
    "                                                              ##mu= mean of that sample  \n",
    "                                                              ##size=size of that sample/population  "
   ]
  },
  {
   "cell_type": "code",
   "execution_count": 9,
   "metadata": {},
   "outputs": [],
   "source": [
    "ttest,p_val2=ttest_1samp(class_ages,school_ages.mean())"
   ]
  },
  {
   "cell_type": "code",
   "execution_count": 10,
   "metadata": {},
   "outputs": [
    {
     "name": "stdout",
     "output_type": "stream",
     "text": [
      "7.790568956072866e-32\n"
     ]
    }
   ],
   "source": [
    "print(p_val2)"
   ]
  },
  {
   "cell_type": "code",
   "execution_count": 12,
   "metadata": {},
   "outputs": [
    {
     "name": "stdout",
     "output_type": "stream",
     "text": [
      "we reject null hypothesis\n"
     ]
    }
   ],
   "source": [
    "if p_val2<0.05:\n",
    "    print(\"we reject null hypothesis\")\n",
    "else :\n",
    "    print(\"we accpt null hypothesis\")"
   ]
  },
  {
   "cell_type": "markdown",
   "metadata": {},
   "source": [
    "here rejecting null hypothesisi means the mean of sample is difference from mean of population"
   ]
  },
  {
   "cell_type": "markdown",
   "metadata": {},
   "source": [
    "\n",
    "# *** two sample t test ***\n",
    "# We can use this test, if we observe two independent samples from the same or different population, e.g. exam scores of boys and girls or of two ethnic groups. The test measures whether theaverage (expected) value differs significantly across samples. If we observe a large p-value, for example larger than 0.05 or 0.1, then we cannot reject the null hypothesis of identical average scores.If the p-value is smaller than the threshold, e.g. 1%, 5% or 10%,then we reject the null hypothesis of equal averages.\n",
    "\n",
    "\n",
    "\n",
    "\n",
    "\n",
    "\n",
    "\n",
    "\n"
   ]
  },
  {
   "cell_type": "code",
   "execution_count": 15,
   "metadata": {},
   "outputs": [],
   "source": [
    "import numpy as np\n",
    "from scipy.stats import ttest_ind\n",
    "import scipy.stats as stats\n",
    "import math"
   ]
  },
  {
   "cell_type": "code",
   "execution_count": 14,
   "metadata": {},
   "outputs": [],
   "source": [
    "##cretaing the population grp\n",
    "\n",
    "np.random.seed(5)\n",
    "school_ages=stats.poisson.rvs(loc=18,mu=15,size=1500) \n",
    "schoolb_ages=np.random.randint(low=10,high=30,size=1500)\n"
   ]
  },
  {
   "cell_type": "code",
   "execution_count": 19,
   "metadata": {},
   "outputs": [],
   "source": [
    "schoolA_sapmle=school_ages=stats.poisson.rvs(loc=18,mu=15,size=50)\n",
    "schoolA_sapmle=np.random.choice(schoolb_ages,size=50)"
   ]
  },
  {
   "cell_type": "code",
   "execution_count": 21,
   "metadata": {},
   "outputs": [],
   "source": [
    "testind,p_val3=ttest_ind(schoolA_sapmle,schoolA_sapmle,equal_var=False)"
   ]
  },
  {
   "cell_type": "code",
   "execution_count": 25,
   "metadata": {},
   "outputs": [
    {
     "name": "stdout",
     "output_type": "stream",
     "text": [
      "1.0\n",
      "0.0\n"
     ]
    }
   ],
   "source": [
    "print(p_val3)\n",
    "print(testind)"
   ]
  },
  {
   "cell_type": "code",
   "execution_count": 27,
   "metadata": {},
   "outputs": [
    {
     "name": "stdout",
     "output_type": "stream",
     "text": [
      "we accpt null hypothesis\n"
     ]
    }
   ],
   "source": [
    "if p_val3<0.05:\n",
    "    print(\"we reject null hypothesis\")\n",
    "else :\n",
    "    print(\"we accpt null hypothesis\")"
   ]
  },
  {
   "cell_type": "code",
   "execution_count": null,
   "metadata": {},
   "outputs": [],
   "source": []
  }
 ],
 "metadata": {
  "kernelspec": {
   "display_name": "Python 3",
   "language": "python",
   "name": "python3"
  },
  "language_info": {
   "codemirror_mode": {
    "name": "ipython",
    "version": 3
   },
   "file_extension": ".py",
   "mimetype": "text/x-python",
   "name": "python",
   "nbconvert_exporter": "python",
   "pygments_lexer": "ipython3",
   "version": "3.7.0"
  }
 },
 "nbformat": 4,
 "nbformat_minor": 2
}
